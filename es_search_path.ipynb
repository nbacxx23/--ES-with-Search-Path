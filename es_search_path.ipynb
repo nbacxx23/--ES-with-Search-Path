{
 "metadata": {
  "name": "",
  "signature": "sha256:01beac461c0a36810b4dfb8d23b825bb55470b494211a0d4a64f7aaaa412d8cf"
 },
 "nbformat": 3,
 "nbformat_minor": 0,
 "worksheets": [
  {
   "cells": [
    {
     "cell_type": "code",
     "collapsed": false,
     "input": [
      "def happy(e,x,x_last):\n",
      "    if abs(f(x)-f(x_last)) <= e :\n",
      "        return true\n",
      "    else:\n",
      "        return false"
     ],
     "language": "python",
     "metadata": {},
     "outputs": [],
     "prompt_number": 2
    },
    {
     "cell_type": "code",
     "collapsed": false,
     "input": [
      " def sel_u_best(u, xk):\n",
      "    lam = len(x)\n",
      "    n = len(x[0])\n",
      "    fx = np.zeros(lam)\n",
      "    u_best = np.zeros((lam,n))\n",
      "    for i in range(0, lam):\n",
      "        fx[i] = f(xk[i])\n",
      "    sort_fx = sorted(range(lam), key=lambda k: fx[k])\n",
      "    for i in range(0,u):\n",
      "        u_best[i] = xk[sort_fx[i]]\n",
      "    return u_best"
     ],
     "language": "python",
     "metadata": {},
     "outputs": [],
     "prompt_number": 3
    },
    {
     "cell_type": "code",
     "collapsed": false,
     "input": [
      "import math\n",
      "import numpy as np\n",
      "def ES_search_path(n, lam, x, e):\n",
      "    P = np\n",
      "    u = lam/4\n",
      "    c = math.sqrt(u/(u+n))\n",
      "    d = 1 + math.sqrt(u/n)\n",
      "    d1 = 3*n\n",
      "    s = np.zeros(n)\n",
      "    mean = np.zeros(n)\n",
      "    I = np.eye(n)\n",
      "    sigma = np.ones(n)\n",
      "    xk = np.zeros((lam,n))\n",
      "    ze = np.zeros(n)\n",
      "    if not happy:\n",
      "        z = np.random.multivariate_normal(mean, I, (lam, 1))\n",
      "        xk = z + x\n",
      "        P.extend(sel_u_best(u,xk))\n",
      "        P = sel_u_best(u,P)\n",
      "        s = (1-c)*s + math.sqrt(c(2-c))*(math.sqrt(u)/u)*(z.sum(axis=1))\n",
      "        \n",
      "        \n",
      "            \n",
      "    "
     ],
     "language": "python",
     "metadata": {},
     "outputs": [],
     "prompt_number": 5
    },
    {
     "cell_type": "code",
     "collapsed": false,
     "input": [],
     "language": "python",
     "metadata": {},
     "outputs": []
    }
   ],
   "metadata": {}
  }
 ]
}