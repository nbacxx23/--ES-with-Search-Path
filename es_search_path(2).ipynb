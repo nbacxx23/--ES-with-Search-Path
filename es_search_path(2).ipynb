{
 "cells": [
  {
   "cell_type": "code",
   "execution_count": 269,
   "metadata": {
    "collapsed": false
   },
   "outputs": [],
   "source": [
    "def happy(x,x_last):\n",
    "    if abs(fun(x)-fun(x_last)) <= 0.0000001 :\n",
    "        return 1\n",
    "    else:\n",
    "        return 0"
   ]
  },
  {
   "cell_type": "code",
   "execution_count": 262,
   "metadata": {
    "collapsed": false
   },
   "outputs": [],
   "source": [
    " def sel_u_best(u, xk):\n",
    "    #print xk\n",
    "    lam = len(xk)\n",
    "    n = len(xk[0])\n",
    "    fx = np.zeros(lam)\n",
    "    u_best = np.zeros((lam,n))\n",
    "    next_best = [[] for i in range(u)]\n",
    "    for i in range(lam):\n",
    "        fx[i] = fun(xk[i])\n",
    "    sort_fx = sorted(range(lam), key=lambda k: fx[k])\n",
    "    for i in range(0,u):\n",
    "        next_best[i] = xk[sort_fx[i]]\n",
    "    next_best = np.array(next_best)\n",
    "    return next_best"
   ]
  },
  {
   "cell_type": "code",
   "execution_count": 275,
   "metadata": {
    "collapsed": false
   },
   "outputs": [],
   "source": [
    "import math\n",
    "import numpy as np\n",
    "def ES_search_path(fun, lbounds, ubounds, budget):\n",
    "    lbounds = np.array(lbounds)\n",
    "    ubounds = np.array(ubounds)\n",
    "    n = len(lbounds)\n",
    "    lam = 20\n",
    "    u = int(lam/4)\n",
    "    c = math.sqrt(u/(u+n))\n",
    "    d = 1 + math.sqrt(u/n)\n",
    "    di = 3*n\n",
    "    s = np.zeros(n)\n",
    "    mean = np.zeros(n)\n",
    "    I = np.eye(n)\n",
    "    sigma = np.ones(n)*0.1\n",
    "    xk = np.random.uniform(lbounds, ubounds,(lam,n))\n",
    "    #print '555 ',xk\n",
    "    x_last =np.sum(xk, axis=0)/u\n",
    "    h = 0\n",
    "    E_half_normal_dis = math.sqrt(2/math.pi)\n",
    "    E_muldim_normal = math.sqrt(n)*(1-1/(4*n)+1/(21*n*n))\n",
    "    \n",
    "    while h==0 and budget>0 :\n",
    "        z = np.random.multivariate_normal(mean, I, (lam, n))\n",
    "        for i in range(0,lam):\n",
    "            xk[i] = z[i] + x_last*sigma\n",
    "        p = np.concatenate((xk, sel_u_best(u,xk)), axis = 0)\n",
    "        p = sel_u_best(u, p)\n",
    "        s = (1-c)*s + math.sqrt(c*(2-c))*(math.sqrt(u)/u)*(z.sum(axis=0))\n",
    "        sigma = sigma * np.exp((1/di)*((abs(s)/ E_half_normal_dis)-1))*math.exp((c/d)*((np.linalg.norm(s)/E_muldim_normal)-1))\n",
    "        x = np.sum(xk,axis = 0)/len(xk)\n",
    "        h = happy(x, x_last)\n",
    "        x_last = x\n",
    "        #print x\n",
    "        budget = budget - 1\n",
    "    return x,fun(x_last),budget,h\n",
    "        \n",
    "        \n",
    "            \n",
    "    "
   ]
  },
  {
   "cell_type": "code",
   "execution_count": 276,
   "metadata": {
    "collapsed": false
   },
   "outputs": [],
   "source": [
    "def fun(x):\n",
    "    return x*x*5+1"
   ]
  },
  {
   "cell_type": "code",
   "execution_count": 277,
   "metadata": {
    "collapsed": false
   },
   "outputs": [
    {
     "data": {
      "text/plain": [
       "(array([-0.00698644]), array([ 1.00024405]), 660134, 1)"
      ]
     },
     "execution_count": 277,
     "metadata": {},
     "output_type": "execute_result"
    }
   ],
   "source": [
    "ES_search_path(fun, [-1], [5], 1000000)"
   ]
  },
  {
   "cell_type": "code",
   "execution_count": null,
   "metadata": {
    "collapsed": true
   },
   "outputs": [],
   "source": [
    "0."
   ]
  },
  {
   "cell_type": "code",
   "execution_count": null,
   "metadata": {
    "collapsed": true
   },
   "outputs": [],
   "source": []
  },
  {
   "cell_type": "code",
   "execution_count": null,
   "metadata": {
    "collapsed": true
   },
   "outputs": [],
   "source": []
  },
  {
   "cell_type": "code",
   "execution_count": null,
   "metadata": {
    "collapsed": true
   },
   "outputs": [],
   "source": []
  },
  {
   "cell_type": "code",
   "execution_count": null,
   "metadata": {
    "collapsed": true
   },
   "outputs": [],
   "source": []
  },
  {
   "cell_type": "code",
   "execution_count": null,
   "metadata": {
    "collapsed": true
   },
   "outputs": [],
   "source": []
  }
 ],
 "metadata": {
  "kernelspec": {
   "display_name": "Python 2",
   "language": "python",
   "name": "python2"
  },
  "language_info": {
   "codemirror_mode": {
    "name": "ipython",
    "version": 2
   },
   "file_extension": ".py",
   "mimetype": "text/x-python",
   "name": "python",
   "nbconvert_exporter": "python",
   "pygments_lexer": "ipython2",
   "version": "2.7.6"
  }
 },
 "nbformat": 4,
 "nbformat_minor": 0
}
