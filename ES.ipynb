{
 "metadata": {
  "name": "",
  "signature": "sha256:b3350ceac11b2860cff2d169d5fa4878c7291bcbb93ba64c7ecbca8e0a403c3f"
 },
 "nbformat": 3,
 "nbformat_minor": 0,
 "worksheets": [
  {
   "cells": [
    {
     "cell_type": "code",
     "collapsed": false,
     "input": [
      "# ===============================================\n",
      "# the stop criterion  \n",
      "# ===============================================\n",
      "def happy(x,x_final):\n",
      "    \"\"\"\n",
      "    Setting up a threshold which decides the stop criterion. \n",
      "    When the difference of the last two resulte solutions is not bigger than the threshold, we consider\n",
      "    the resulte arrives the convergence(happy)\n",
      "    \"\"\"\n",
      "    if abs(fun(x)-fun(x_final)) <= 0.0000001 :\n",
      "        return 1\n",
      "    else:\n",
      "        return 0"
     ],
     "language": "python",
     "metadata": {},
     "outputs": [],
     "prompt_number": 13
    },
    {
     "cell_type": "code",
     "collapsed": false,
     "input": [
      "\n",
      "\n",
      "# ===============================================\n",
      "# recombination and parent update  \n",
      "# =============================================== \n",
      "def sel_u_best(u, x_k):\n",
      "    lamda = len(x_k)              #x_k has the same length of the offspring population size\n",
      "    n = len(x_k[0])               #dimension of the solution\n",
      "    f_x = np.zeros(lamda)         #objective function\n",
      "    u_best = [[] for i in range(u)]\n",
      "    for i in xrange(lamda):\n",
      "        f_x[i] = fun(x_k[i])\n",
      "    sorted_f_x = sorted(xrange(lamda), key=lambda k: f_x[k])  #rank the solution based on their objective function value\n",
      "    for i in xrange(u):\n",
      "        u_best[i] = x_k[sorted_f_x[i]]\n",
      "    u_best = np.array(u_best)\n",
      "    return u_best\n",
      "\n"
     ],
     "language": "python",
     "metadata": {},
     "outputs": [],
     "prompt_number": 14
    },
    {
     "cell_type": "code",
     "collapsed": false,
     "input": [
      "\n",
      "\n",
      "import math\n",
      "import numpy as np\n",
      "# ===============================================\n",
      "# the main structure of the algorithm  \n",
      "# ===============================================\n",
      "def ES_search_path(fun, lbounds, ubounds, budget):\n",
      "    \"ES with cumulative path length control\"\n",
      "    lbounds,ubounds = np.array(lbounds),np.array(ubounds)   #define the search range\n",
      "    n = len(lbounds)                                        #the dimension of the solution\n",
      "    lamda = 20                                              #initialize lambda - offspring population size\n",
      "    u = int(lamda/4)                                        #initialize parental population size\n",
      "    \"parameters used to update the  step-size and search path\"\n",
      "    c_sig = math.sqrt(u/(u+n))\n",
      "    d = 1 + math.sqrt(u/n)\n",
      "    d_i = 3*n\n",
      "    \n",
      "    \"initialize all the variables\"\n",
      "    s_sig = np.zeros(n)                                     # initialize search path - carries info about the interrelation between single steps\n",
      "    mean = np.zeros(n) \n",
      "    I = np.eye(n)\n",
      "    sigma = np.ones(n)*0.1                                  # initialize the step-size\n",
      "    x_k = np.random.uniform(lbounds, ubounds,(lamda,n))     # initialize the solution(x-vector)\n",
      "    \n",
      "    x_final =np.sum(x_k, axis=0)/u                          # the final solution vector after the optimization process\n",
      "    h = 0                                                   # stop criterion--if happy h=1,otherwise h=0\n",
      "    E_half_normal_dis = math.sqrt(2/math.pi)                # parameter used to update the step-size   \n",
      "    E_muldim_normal = math.sqrt(n)*(1-1/(4*n)+1/(21*n*n))\n",
      "    \n",
      "    while h==0 and budget>0 :\n",
      "        z = np.random.multivariate_normal(mean, I, lamda)\n",
      "        x = np.array(np.ones((lamda,n)))*x_final\n",
      "        x_k = x + z*sigma\n",
      "        p = np.concatenate((x_k, sel_u_best(u,x_k)), axis = 0)   # add the selected parents to the original population to complete recombination and parent update\n",
      "        p = sel_u_best(u, p)                                     # select the u best solution to keep the population size constant\n",
      "        \"update the search path\"\n",
      "        s_sig = (1-c_sig)*s_sig + math.sqrt(c_sig*(2-c_sig))*(math.sqrt(u)/u)*(z.sum(axis=0))\n",
      "        \"update the step size\"\n",
      "        sigma = sigma * np.exp((1/d_i)*((abs(s_sig)/ E_half_normal_dis)-1))*math.exp((c_sig/d)*((np.linalg.norm(s_sig)/E_muldim_normal)-1))\n",
      "        \n",
      "        x = np.sum(p,axis = 0)/u\n",
      "        h = happy(x, x_final)\n",
      "        x_final = x\n",
      "        #print x\n",
      "        budget = budget - 1\n",
      "    return x,fun(x_final),budget,h\n",
      "        \n",
      "        \n",
      "            \n",
      "    \n",
      "\n"
     ],
     "language": "python",
     "metadata": {},
     "outputs": [],
     "prompt_number": 24
    },
    {
     "cell_type": "code",
     "collapsed": false,
     "input": [
      "# ===============================================\n",
      "# the objective function(offered by default in coco)\n",
      "# ===============================================\n",
      "def fun(x):\n",
      "    return x*x*5+x*8+25"
     ],
     "language": "python",
     "metadata": {},
     "outputs": [],
     "prompt_number": 30
    },
    {
     "cell_type": "code",
     "collapsed": false,
     "input": [
      "# ===============================================\n",
      "# test function  \n",
      "# ===============================================\n",
      "ES_search_path(fun, [-1], [5], 1000)"
     ],
     "language": "python",
     "metadata": {},
     "outputs": [
      {
       "metadata": {},
       "output_type": "pyout",
       "prompt_number": 31,
       "text": [
        "(array([-0.80186262]), array([ 21.80001735]), 408, 1)"
       ]
      }
     ],
     "prompt_number": 31
    },
    {
     "cell_type": "code",
     "collapsed": false,
     "input": [],
     "language": "python",
     "metadata": {},
     "outputs": [],
     "prompt_number": 23
    },
    {
     "cell_type": "code",
     "collapsed": false,
     "input": [],
     "language": "python",
     "metadata": {},
     "outputs": []
    }
   ],
   "metadata": {}
  }
 ]
}